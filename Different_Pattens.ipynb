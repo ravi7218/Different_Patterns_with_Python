{
 "cells": [
  {
   "cell_type": "markdown",
   "id": "45606168",
   "metadata": {},
   "source": [
    "# Dfferent Patterns In Python"
   ]
  },
  {
   "cell_type": "code",
   "execution_count": 1,
   "id": "bd1fdba5",
   "metadata": {},
   "outputs": [
    {
     "name": "stdout",
     "output_type": "stream",
     "text": [
      "*\n"
     ]
    }
   ],
   "source": [
    "print('*')"
   ]
  },
  {
   "cell_type": "code",
   "execution_count": 2,
   "id": "8fe49d97",
   "metadata": {},
   "outputs": [
    {
     "name": "stdout",
     "output_type": "stream",
     "text": [
      "*****\n"
     ]
    }
   ],
   "source": [
    "n = 5\n",
    "print('*'*n)"
   ]
  },
  {
   "cell_type": "code",
   "execution_count": 3,
   "id": "65deefae",
   "metadata": {},
   "outputs": [
    {
     "name": "stdout",
     "output_type": "stream",
     "text": [
      "*\n",
      "*\n",
      "*\n",
      "*\n",
      "*\n"
     ]
    }
   ],
   "source": [
    "n = 5\n",
    "for i in range(n):\n",
    "    print('*')"
   ]
  },
  {
   "cell_type": "code",
   "execution_count": 4,
   "id": "47af6c6f",
   "metadata": {},
   "outputs": [
    {
     "name": "stdout",
     "output_type": "stream",
     "text": [
      "Number of Rows: 10\n",
      "*  *  *  *  *  *  *  *  *  *  \n",
      "*  *  *  *  *  *  *  *  *  *  \n",
      "*  *  *  *  *  *  *  *  *  *  \n",
      "*  *  *  *  *  *  *  *  *  *  \n",
      "*  *  *  *  *  *  *  *  *  *  \n",
      "*  *  *  *  *  *  *  *  *  *  \n",
      "*  *  *  *  *  *  *  *  *  *  \n",
      "*  *  *  *  *  *  *  *  *  *  \n",
      "*  *  *  *  *  *  *  *  *  *  \n",
      "*  *  *  *  *  *  *  *  *  *  \n"
     ]
    }
   ],
   "source": [
    "# Square\n",
    "\n",
    "n = int(input('Number of Rows: '))\n",
    "for i in range(n):\n",
    "    for j in range(n):\n",
    "        print('*', end = '  ')\n",
    "    print()    "
   ]
  },
  {
   "cell_type": "code",
   "execution_count": 5,
   "id": "54d99930",
   "metadata": {},
   "outputs": [
    {
     "name": "stdout",
     "output_type": "stream",
     "text": [
      "Number of Rows: 10\n",
      "*   \n",
      "*   *   \n",
      "*   *   *   \n",
      "*   *   *   *   \n",
      "*   *   *   *   *   \n",
      "*   *   *   *   *   *   \n",
      "*   *   *   *   *   *   *   \n",
      "*   *   *   *   *   *   *   *   \n",
      "*   *   *   *   *   *   *   *   *   \n",
      "*   *   *   *   *   *   *   *   *   *   \n"
     ]
    }
   ],
   "source": [
    "# Increasing Triangle \n",
    "\n",
    "n = int(input('Number of Rows: '))\n",
    "for i in range(n):\n",
    "    for j in range(i+1):\n",
    "        print('*', end ='   ')\n",
    "    print()    \n"
   ]
  },
  {
   "cell_type": "code",
   "execution_count": 6,
   "id": "3a98b37e",
   "metadata": {},
   "outputs": [
    {
     "name": "stdout",
     "output_type": "stream",
     "text": [
      "Number of Rows: 10\n",
      "*   *   *   *   *   *   *   *   *   *   \n",
      "*   *   *   *   *   *   *   *   *   \n",
      "*   *   *   *   *   *   *   *   \n",
      "*   *   *   *   *   *   *   \n",
      "*   *   *   *   *   *   \n",
      "*   *   *   *   *   \n",
      "*   *   *   *   \n",
      "*   *   *   \n",
      "*   *   \n",
      "*   \n"
     ]
    }
   ],
   "source": [
    "# Decreasing Triangle \n",
    "\n",
    "n = int(input(\"Number of Rows: \"))\n",
    "for i in range(n):\n",
    "    for j in range(n-i):\n",
    "        print('*', end='   ')\n",
    "    print()    "
   ]
  },
  {
   "cell_type": "code",
   "execution_count": 7,
   "id": "3e3787f0",
   "metadata": {},
   "outputs": [
    {
     "name": "stdout",
     "output_type": "stream",
     "text": [
      "Number of rows: 10\n",
      "                    * \n",
      "                  * * \n",
      "                * * * \n",
      "              * * * * \n",
      "            * * * * * \n",
      "          * * * * * * \n",
      "        * * * * * * * \n",
      "      * * * * * * * * \n",
      "    * * * * * * * * * \n",
      "  * * * * * * * * * * \n"
     ]
    }
   ],
   "source": [
    "# Right sided triangle \n",
    "\n",
    "n = int(input('Number of rows: '))\n",
    "for i in range(n):\n",
    "    for j in range(n-i):\n",
    "        print(' ', end=' ')\n",
    "    for J in range(i+1):\n",
    "        print('*',end=' ')\n",
    "    print()    "
   ]
  },
  {
   "cell_type": "code",
   "execution_count": 8,
   "id": "89d53a0d",
   "metadata": {},
   "outputs": [
    {
     "name": "stdout",
     "output_type": "stream",
     "text": [
      "Number of rows: 10\n",
      "                                        #  \n",
      "                                    #  #  \n",
      "                                #  #  #  \n",
      "                            #  #  #  #  \n",
      "                        #  #  #  #  #  \n",
      "                    #  #  #  #  #  #  \n",
      "                #  #  #  #  #  #  #  \n",
      "            #  #  #  #  #  #  #  #  \n",
      "        #  #  #  #  #  #  #  #  #  \n",
      "    #  #  #  #  #  #  #  #  #  #  \n"
     ]
    }
   ],
   "source": [
    "n = int(input('Number of rows: '))\n",
    "for i in range(n):\n",
    "    for j in range(n-i):\n",
    "        print('  ', end='  ')\n",
    "    for J in range(i+1):\n",
    "        print('#',end='  ')\n",
    "    print()    "
   ]
  },
  {
   "cell_type": "code",
   "execution_count": 9,
   "id": "cab45715",
   "metadata": {},
   "outputs": [
    {
     "name": "stdout",
     "output_type": "stream",
     "text": [
      "Number of rows: 10\n",
      "  * * * * * * * * * * \n",
      "    * * * * * * * * * \n",
      "      * * * * * * * * \n",
      "        * * * * * * * \n",
      "          * * * * * * \n",
      "            * * * * * \n",
      "              * * * * \n",
      "                * * * \n",
      "                  * * \n",
      "                    * \n"
     ]
    }
   ],
   "source": [
    "n = int(input('Number of rows: '))\n",
    "for i in range(n):\n",
    "    for j in range(i+1):\n",
    "        print(' ', end=' ')\n",
    "    for j in range(n-i):\n",
    "        print('*', end=' ')\n",
    "    print()    "
   ]
  },
  {
   "cell_type": "code",
   "execution_count": 10,
   "id": "1cfbb83d",
   "metadata": {},
   "outputs": [
    {
     "name": "stdout",
     "output_type": "stream",
     "text": [
      "Number of rows: 10\n",
      "                    * \n",
      "                  * * * \n",
      "                * * * * * \n",
      "              * * * * * * * \n",
      "            * * * * * * * * * \n",
      "          * * * * * * * * * * * \n",
      "        * * * * * * * * * * * * * \n",
      "      * * * * * * * * * * * * * * * \n",
      "    * * * * * * * * * * * * * * * * * \n",
      "  * * * * * * * * * * * * * * * * * * * \n"
     ]
    }
   ],
   "source": [
    "# Hill Pattern\n",
    "\n",
    "n = int(input('Number of rows: '))\n",
    "for i in range(n):\n",
    "    for j in range(n-i):\n",
    "        print(' ', end= ' ')\n",
    "    for j in range(i):\n",
    "        print('*', end= ' ')\n",
    "    for j in range(i+1):\n",
    "        print('*', end=' ')\n",
    "    print()    "
   ]
  },
  {
   "cell_type": "code",
   "execution_count": 11,
   "id": "048cb6a2",
   "metadata": {},
   "outputs": [
    {
     "name": "stdout",
     "output_type": "stream",
     "text": [
      "Number of rows: 10\n",
      "   *  *  *  *  *  *  *  *  *  *  *  *  *  *  *  *  *  *  *  \n",
      "      *  *  *  *  *  *  *  *  *  *  *  *  *  *  *  *  *  \n",
      "         *  *  *  *  *  *  *  *  *  *  *  *  *  *  *  \n",
      "            *  *  *  *  *  *  *  *  *  *  *  *  *  \n",
      "               *  *  *  *  *  *  *  *  *  *  *  \n",
      "                  *  *  *  *  *  *  *  *  *  \n",
      "                     *  *  *  *  *  *  *  \n",
      "                        *  *  *  *  *  \n",
      "                           *  *  *  \n",
      "                              *  \n"
     ]
    }
   ],
   "source": [
    "# Reverse Hill Pattern\n",
    "\n",
    "n = int(input(\"Number of rows: \"))\n",
    "for i in range(n):\n",
    "    for j in range(i+1):\n",
    "        print(' ', end = '  ')\n",
    "    for j in range(i,n-1):\n",
    "        print('*', end='  ')\n",
    "    for j in range(n-i):\n",
    "        print('*', end='  ')\n",
    "        \n",
    "    print()    "
   ]
  },
  {
   "cell_type": "code",
   "execution_count": 12,
   "id": "555d2e4f",
   "metadata": {},
   "outputs": [
    {
     "name": "stdout",
     "output_type": "stream",
     "text": [
      "Number of Rows: 10\n",
      "                    * \n",
      "                  * * * \n",
      "                * * * * * \n",
      "              * * * * * * * \n",
      "            * * * * * * * * * \n",
      "          * * * * * * * * * * * \n",
      "        * * * * * * * * * * * * * \n",
      "      * * * * * * * * * * * * * * * \n",
      "    * * * * * * * * * * * * * * * * * \n",
      "  * * * * * * * * * * * * * * * * * * * \n",
      "    * * * * * * * * * * * * * * * * * \n",
      "      * * * * * * * * * * * * * * * \n",
      "        * * * * * * * * * * * * * \n",
      "          * * * * * * * * * * * \n",
      "            * * * * * * * * * \n",
      "              * * * * * * * \n",
      "                * * * * * \n",
      "                  * * * \n",
      "                    * \n"
     ]
    }
   ],
   "source": [
    "# Diamond Pattern\n",
    "\n",
    "n = int(input('Number of Rows: '))\n",
    "for i in range(n-1):\n",
    "    for j in range(i,n):\n",
    "        print(' ', end= ' ')\n",
    "    for j in range(i):\n",
    "        print('*', end=' ')\n",
    "    for j in range(i+1):\n",
    "        print('*', end=' ')\n",
    "    print()    \n",
    "    \n",
    "for i in range(n):\n",
    "    for j in range(i+1):\n",
    "        print(' ', end=' ')\n",
    "    for j in range(i, n-1):\n",
    "        print('*', end=' ')\n",
    "    for i in range(i,n):\n",
    "        print('*', end=' ')\n",
    "    print()    "
   ]
  },
  {
   "cell_type": "code",
   "execution_count": 14,
   "id": "748fc784",
   "metadata": {},
   "outputs": [
    {
     "name": "stdout",
     "output_type": "stream",
     "text": [
      "Number of rows: 10\n",
      "                                    * * \n",
      "                                * *     * * \n",
      "                            * * *         * * * \n",
      "                        * * * *             * * * * \n",
      "                    * * * * *                 * * * * * \n",
      "                * * * * * *                     * * * * * * \n",
      "            * * * * * * *                         * * * * * * * \n",
      "        * * * * * * * *                             * * * * * * * * \n",
      "    * * * * * * * * *                                 * * * * * * * * * \n",
      "* * * * * * * * * *                                     * * * * * * * * * * \n"
     ]
    }
   ],
   "source": [
    "n = int(input('Number of rows: '))\n",
    "\n",
    "# Upper part of the butterfly\n",
    "for i in range(n):\n",
    "    for j in range(2 * n - 2, 2 * i, -1):\n",
    "        print(' ', end=' ')\n",
    "    for j in range(i + 1):\n",
    "        print('*', end=' ')\n",
    "    for j in range(i):\n",
    "        print(' ', end=' ')\n",
    "    for j in range(i):\n",
    "        print(' ', end=' ')\n",
    "    for j in range(i + 1):\n",
    "        print('*', end=' ')\n",
    "    print()\n"
   ]
  },
  {
   "cell_type": "code",
   "execution_count": 22,
   "id": "873dcb0a",
   "metadata": {},
   "outputs": [
    {
     "name": "stdout",
     "output_type": "stream",
     "text": [
      "Number of rows: 10\n",
      "* * * * * * * * * * * * * * * * * * * \n",
      "  * * * * * * * * * * * * * * * * *   \n",
      "    * * * * * * * * * * * * * * *     \n",
      "      * * * * * * * * * * * * *       \n",
      "        * * * * * * * * * * *         \n",
      "          * * * * * * * * *           \n",
      "            * * * * * * *             \n",
      "              * * * * *               \n",
      "                * * *                 \n",
      "                  *                   \n",
      "                * * *                 \n",
      "              * * * * *               \n",
      "            * * * * * * *             \n",
      "          * * * * * * * * *           \n",
      "        * * * * * * * * * * *         \n",
      "      * * * * * * * * * * * * *       \n",
      "    * * * * * * * * * * * * * * *     \n",
      "  * * * * * * * * * * * * * * * * *   \n",
      "* * * * * * * * * * * * * * * * * * * \n"
     ]
    }
   ],
   "source": [
    "# Sandglass\n",
    "\n",
    "n = int(input('Number of rows: '))\n",
    "\n",
    "# Upper part of the sandglass\n",
    "for i in range(n):\n",
    "    for j in range(i):\n",
    "        print(' ', end=' ')\n",
    "    for j in range(2 * (n - i) - 1):\n",
    "        print('*', end=' ')\n",
    "    for j in range(i):\n",
    "        print(' ', end=' ')\n",
    "    print()\n",
    "\n",
    "# Lower part of the sandglass\n",
    "for i in range(n - 2, -1, -1):\n",
    "    for j in range(i):\n",
    "        print(' ', end=' ')\n",
    "    for j in range(2 * (n - i) - 1):\n",
    "        print('*', end=' ')\n",
    "    for j in range(i):\n",
    "        print(' ', end=' ')\n",
    "    print()"
   ]
  },
  {
   "cell_type": "code",
   "execution_count": 25,
   "id": "4d2e452c",
   "metadata": {},
   "outputs": [
    {
     "name": "stdout",
     "output_type": "stream",
     "text": [
      "Number of rows: 10\n",
      "**********\n",
      "*        *\n",
      "*        *\n",
      "*        *\n",
      "*        *\n",
      "*        *\n",
      "*        *\n",
      "*        *\n",
      "*        *\n",
      "**********\n"
     ]
    }
   ],
   "source": [
    "# Hollow square pattern\n",
    "\n",
    "n = int(input('Number of rows: '))\n",
    "for i in range(n):\n",
    "    if i == 0 or i == n - 1:\n",
    "        print('*' * n)\n",
    "    else:\n",
    "        print('*' + ' ' * (n - 2) + '*')"
   ]
  },
  {
   "cell_type": "code",
   "execution_count": 27,
   "id": "28051166",
   "metadata": {},
   "outputs": [
    {
     "name": "stdout",
     "output_type": "stream",
     "text": [
      "Number of rows: 10\n",
      "*                 * \n",
      "  *             *   \n",
      "    *         *     \n",
      "      *     *       \n",
      "        * *         \n",
      "        * *         \n",
      "      *     *       \n",
      "    *         *     \n",
      "  *             *   \n",
      "*                 * \n"
     ]
    }
   ],
   "source": [
    "# Zigzag Pattern\n",
    "\n",
    "n = int(input('Number of rows: '))\n",
    "for i in range(1, n + 1):\n",
    "    for j in range(1, n + 1):\n",
    "        if i == j or j == n - i + 1:\n",
    "            print('*', end=' ')\n",
    "        else:\n",
    "            print(' ', end=' ')\n",
    "    print()"
   ]
  },
  {
   "cell_type": "code",
   "execution_count": 28,
   "id": "7ec477f8",
   "metadata": {},
   "outputs": [
    {
     "name": "stdout",
     "output_type": "stream",
     "text": [
      "Number of rows: 10\n",
      "*   *   *   *   *   \n",
      "  *   *   *   *   * \n",
      "*   *   *   *   *   \n",
      "  *   *   *   *   * \n",
      "*   *   *   *   *   \n",
      "  *   *   *   *   * \n",
      "*   *   *   *   *   \n",
      "  *   *   *   *   * \n",
      "*   *   *   *   *   \n",
      "  *   *   *   *   * \n"
     ]
    }
   ],
   "source": [
    "n = int(input('Number of rows: '))\n",
    "for i in range(n):\n",
    "    for j in range(n):\n",
    "        if (i + j) % 2 == 0:\n",
    "            print('*', end=' ')\n",
    "        else:\n",
    "            print(' ', end=' ')\n",
    "    print()"
   ]
  },
  {
   "cell_type": "code",
   "execution_count": 29,
   "id": "ba152ebc",
   "metadata": {},
   "outputs": [
    {
     "name": "stdout",
     "output_type": "stream",
     "text": [
      "Size of the cross: 10\n",
      "          *         \n",
      "          *         \n",
      "          *         \n",
      "          *         \n",
      "          *         \n",
      "* * * * * * * * * * \n",
      "          *         \n",
      "          *         \n",
      "          *         \n",
      "          *         \n"
     ]
    }
   ],
   "source": [
    "# Plus sign\n",
    "\n",
    "n = int(input('Size of the cross: '))\n",
    "for i in range(n):\n",
    "    for j in range(n):\n",
    "        if i == n // 2 or j == n // 2:\n",
    "            print('*', end=' ')\n",
    "        else:\n",
    "            print(' ', end=' ')\n",
    "    print()"
   ]
  },
  {
   "cell_type": "code",
   "execution_count": 30,
   "id": "1dbf9f64",
   "metadata": {},
   "outputs": [
    {
     "name": "stdout",
     "output_type": "stream",
     "text": [
      "Number of rows (should be odd): 10\n",
      "                  * * * * * * * * * * \n",
      "                * * * * * * * * * * \n",
      "              * * * * * * * * * * \n",
      "            * * * * * * * * * * \n",
      "          * * * * * * * * * * \n",
      "        * * * * * * * * * * \n",
      "      * * * * * * * * * * \n",
      "    * * * * * * * * * * \n",
      "  * * * * * * * * * * \n",
      "* * * * * * * * * * \n"
     ]
    }
   ],
   "source": [
    "n = int(input('Number of rows (should be odd): '))\n",
    "for i in range(n):\n",
    "    for j in range(n - i - 1):\n",
    "        print(' ', end=' ')\n",
    "    for j in range(n):\n",
    "        print('*', end=' ')\n",
    "    print()"
   ]
  },
  {
   "cell_type": "code",
   "execution_count": 32,
   "id": "93530058",
   "metadata": {},
   "outputs": [
    {
     "name": "stdout",
     "output_type": "stream",
     "text": [
      "Number of rows: 10\n",
      "1 \n",
      "1 2 \n",
      "1 2 3 \n",
      "1 2 3 4 \n",
      "1 2 3 4 5 \n",
      "1 2 3 4 5 6 \n",
      "1 2 3 4 5 6 7 \n",
      "1 2 3 4 5 6 7 8 \n",
      "1 2 3 4 5 6 7 8 9 \n",
      "1 2 3 4 5 6 7 8 9 10 \n"
     ]
    }
   ],
   "source": [
    "# Half Pyramid with numbers\n",
    " \n",
    "n = int(input('Number of rows: '))\n",
    "for i in range(1, n + 1):\n",
    "    for j in range(1, i + 1):\n",
    "        print(j, end=' ')\n",
    "    print()"
   ]
  },
  {
   "cell_type": "code",
   "execution_count": 33,
   "id": "f6265253",
   "metadata": {},
   "outputs": [
    {
     "name": "stdout",
     "output_type": "stream",
     "text": [
      "Number of rows: 10\n",
      "1 \n",
      "1 2 \n",
      "1   3 \n",
      "1     4 \n",
      "1       5 \n",
      "1         6 \n",
      "1           7 \n",
      "1             8 \n",
      "1               9 \n",
      "1 2 3 4 5 6 7 8 9 10 \n"
     ]
    }
   ],
   "source": [
    "\n",
    "\n",
    "n = int(input('Number of rows: '))\n",
    "for i in range(1, n + 1):\n",
    "    for j in range(1, i + 1):\n",
    "        if j == 1 or j == i or i == n:\n",
    "            print(j, end=' ')\n",
    "        else:\n",
    "            print(' ', end=' ')\n",
    "    print()"
   ]
  },
  {
   "cell_type": "code",
   "execution_count": null,
   "id": "e571d752",
   "metadata": {},
   "outputs": [],
   "source": []
  }
 ],
 "metadata": {
  "kernelspec": {
   "display_name": "Python 3 (ipykernel)",
   "language": "python",
   "name": "python3"
  },
  "language_info": {
   "codemirror_mode": {
    "name": "ipython",
    "version": 3
   },
   "file_extension": ".py",
   "mimetype": "text/x-python",
   "name": "python",
   "nbconvert_exporter": "python",
   "pygments_lexer": "ipython3",
   "version": "3.9.12"
  }
 },
 "nbformat": 4,
 "nbformat_minor": 5
}
